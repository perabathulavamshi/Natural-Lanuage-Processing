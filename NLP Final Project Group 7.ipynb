{
 "cells": [
  {
   "cell_type": "markdown",
   "id": "f1698cbe",
   "metadata": {},
   "source": [
    "## Sentimental Classification \n",
    "##### Goal: \n",
    "To accurately predict whether a given movie review is positive or negative."
   ]
  },
  {
   "cell_type": "code",
   "execution_count": 106,
   "id": "c4535e41",
   "metadata": {},
   "outputs": [],
   "source": [
    "import pandas as pd\n",
    "import numpy as np\n",
    "from nltk.corpus import stopwords\n",
    "from collections import Counter\n",
    "from nltk.tokenize import word_tokenize\n",
    "from sklearn.model_selection import train_test_split\n",
    "from sklearn.feature_extraction.text import TfidfVectorizer\n",
    "from sklearn.linear_model import LogisticRegression\n",
    "from sklearn.naive_bayes import MultinomialNB\n",
    "from sklearn.ensemble import RandomForestClassifier\n",
    "from sklearn.metrics import classification_report, accuracy_score"
   ]
  },
  {
   "cell_type": "code",
   "execution_count": 107,
   "id": "c3722061",
   "metadata": {},
   "outputs": [],
   "source": [
    "df = pd.read_csv('IMDB Dataset.csv')"
   ]
  },
  {
   "cell_type": "code",
   "execution_count": 108,
   "id": "1afe851b",
   "metadata": {},
   "outputs": [
    {
     "data": {
      "text/html": [
       "<div>\n",
       "<style scoped>\n",
       "    .dataframe tbody tr th:only-of-type {\n",
       "        vertical-align: middle;\n",
       "    }\n",
       "\n",
       "    .dataframe tbody tr th {\n",
       "        vertical-align: top;\n",
       "    }\n",
       "\n",
       "    .dataframe thead th {\n",
       "        text-align: right;\n",
       "    }\n",
       "</style>\n",
       "<table border=\"1\" class=\"dataframe\">\n",
       "  <thead>\n",
       "    <tr style=\"text-align: right;\">\n",
       "      <th></th>\n",
       "      <th>review</th>\n",
       "      <th>sentiment</th>\n",
       "    </tr>\n",
       "  </thead>\n",
       "  <tbody>\n",
       "    <tr>\n",
       "      <th>0</th>\n",
       "      <td>One of the other reviewers has mentioned that ...</td>\n",
       "      <td>positive</td>\n",
       "    </tr>\n",
       "    <tr>\n",
       "      <th>1</th>\n",
       "      <td>A wonderful little production. &lt;br /&gt;&lt;br /&gt;The...</td>\n",
       "      <td>positive</td>\n",
       "    </tr>\n",
       "    <tr>\n",
       "      <th>2</th>\n",
       "      <td>I thought this was a wonderful way to spend ti...</td>\n",
       "      <td>positive</td>\n",
       "    </tr>\n",
       "    <tr>\n",
       "      <th>3</th>\n",
       "      <td>Basically there's a family where a little boy ...</td>\n",
       "      <td>negative</td>\n",
       "    </tr>\n",
       "    <tr>\n",
       "      <th>4</th>\n",
       "      <td>Petter Mattei's \"Love in the Time of Money\" is...</td>\n",
       "      <td>positive</td>\n",
       "    </tr>\n",
       "  </tbody>\n",
       "</table>\n",
       "</div>"
      ],
      "text/plain": [
       "                                              review sentiment\n",
       "0  One of the other reviewers has mentioned that ...  positive\n",
       "1  A wonderful little production. <br /><br />The...  positive\n",
       "2  I thought this was a wonderful way to spend ti...  positive\n",
       "3  Basically there's a family where a little boy ...  negative\n",
       "4  Petter Mattei's \"Love in the Time of Money\" is...  positive"
      ]
     },
     "execution_count": 108,
     "metadata": {},
     "output_type": "execute_result"
    }
   ],
   "source": [
    "df.head()"
   ]
  },
  {
   "cell_type": "code",
   "execution_count": 147,
   "id": "17b8b7c4",
   "metadata": {},
   "outputs": [
    {
     "name": "stdout",
     "output_type": "stream",
     "text": [
      "Dimensions of the dataset: (50000, 4)\n"
     ]
    }
   ],
   "source": [
    "print(\"Dimensions of the dataset:\", df.shape)"
   ]
  },
  {
   "cell_type": "code",
   "execution_count": 109,
   "id": "13954e2f",
   "metadata": {},
   "outputs": [],
   "source": [
    "#For making text processing we have to make sure to clean the data \n",
    "#Here we are removing HTML tags from the data\n",
    "\n",
    "df['review'] = df['review'].str.replace(r'<[^>]+>', '', regex=True)"
   ]
  },
  {
   "cell_type": "code",
   "execution_count": 110,
   "id": "de977d54",
   "metadata": {},
   "outputs": [],
   "source": [
    "# Removing non-letters and lower case\n",
    "\n",
    "df['review'] = df['review'].str.replace(r'[^a-zA-Z]', ' ', regex=True).str.lower()"
   ]
  },
  {
   "cell_type": "code",
   "execution_count": 111,
   "id": "db5e535b",
   "metadata": {},
   "outputs": [
    {
     "data": {
      "text/plain": [
       "0    one of the other reviewers has mentioned that ...\n",
       "1    a wonderful little production  the filming tec...\n",
       "2    i thought this was a wonderful way to spend ti...\n",
       "3    basically there s a family where a little boy ...\n",
       "4    petter mattei s  love in the time of money  is...\n",
       "Name: review, dtype: object"
      ]
     },
     "execution_count": 111,
     "metadata": {},
     "output_type": "execute_result"
    }
   ],
   "source": [
    "df['review'].head()"
   ]
  },
  {
   "cell_type": "code",
   "execution_count": 112,
   "id": "a81190d1",
   "metadata": {},
   "outputs": [
    {
     "name": "stderr",
     "output_type": "stream",
     "text": [
      "[nltk_data] Downloading package punkt to\n",
      "[nltk_data]     C:\\Users\\ADMIN\\AppData\\Roaming\\nltk_data...\n",
      "[nltk_data]   Package punkt is already up-to-date!\n"
     ]
    },
    {
     "data": {
      "text/plain": [
       "True"
      ]
     },
     "execution_count": 112,
     "metadata": {},
     "output_type": "execute_result"
    }
   ],
   "source": [
    "import nltk\n",
    "nltk.download('punkt')"
   ]
  },
  {
   "cell_type": "code",
   "execution_count": 113,
   "id": "5a4b909a",
   "metadata": {},
   "outputs": [
    {
     "name": "stderr",
     "output_type": "stream",
     "text": [
      "[nltk_data] Downloading package stopwords to\n",
      "[nltk_data]     C:\\Users\\ADMIN\\AppData\\Roaming\\nltk_data...\n",
      "[nltk_data]   Package stopwords is already up-to-date!\n"
     ]
    },
    {
     "data": {
      "text/plain": [
       "True"
      ]
     },
     "execution_count": 113,
     "metadata": {},
     "output_type": "execute_result"
    }
   ],
   "source": [
    "import nltk\n",
    "nltk.download('stopwords')"
   ]
  },
  {
   "cell_type": "markdown",
   "id": "1f2c0ffa",
   "metadata": {},
   "source": [
    "## Data Exploration\n",
    "\n",
    "## 1. Class Distribution"
   ]
  },
  {
   "cell_type": "code",
   "execution_count": 114,
   "id": "d5095ec2",
   "metadata": {
    "scrolled": false
   },
   "outputs": [
    {
     "name": "stdout",
     "output_type": "stream",
     "text": [
      "sentiment\n",
      "positive    25000\n",
      "negative    25000\n",
      "Name: count, dtype: int64\n"
     ]
    },
    {
     "data": {
      "image/png": "[encoded data removed]",
      "text/plain": [
       "<Figure size 640x480 with 1 Axes>"
      ]
     },
     "metadata": {},
     "output_type": "display_data"
    }
   ],
   "source": [
    "print(df['sentiment'].value_counts())\n",
    "\n",
    "## Plot the class distribution\n",
    "sns.countplot(x='sentiment', data=df)\n",
    "plt.title('Sentiment Distribution')\n",
    "plt.show()"
   ]
  },
  {
   "cell_type": "markdown",
   "id": "64274efc",
   "metadata": {},
   "source": [
    "## 2. Reviewing Length Distribution"
   ]
  },
  {
   "cell_type": "code",
   "execution_count": 115,
   "id": "d9c93509",
   "metadata": {},
   "outputs": [],
   "source": [
    "# Calculate review lengths\n",
    "df['review_length'] = df['review'].apply(lambda x: len(word_tokenize(x)))"
   ]
  },
  {
   "cell_type": "code",
   "execution_count": 116,
   "id": "f7fbe355",
   "metadata": {
    "scrolled": false
   },
   "outputs": [
    {
     "data": {
      "image/png": "[encoded data removed]",
      "text/plain": [
       "<Figure size 1000x600 with 1 Axes>"
      ]
     },
     "metadata": {},
     "output_type": "display_data"
    }
   ],
   "source": [
    "# Plotting the distribution of review lengths\n",
    "plt.figure(figsize=(10, 6))\n",
    "sns.histplot(df['review_length'], bins=50, kde=False)\n",
    "plt.title('Review Length Distribution')\n",
    "plt.xlabel('Review Length')\n",
    "plt.ylabel('Frequency')\n",
    "plt.show()"
   ]
  },
  {
   "cell_type": "markdown",
   "id": "f800bc5a",
   "metadata": {},
   "source": [
    "## 3. Most Frequent Words in Positive and Negative Reviews"
   ]
  },
  {
   "cell_type": "code",
   "execution_count": 117,
   "id": "4e3b0684",
   "metadata": {},
   "outputs": [
    {
     "data": {
      "text/plain": [
       "0        [one, of, the, other, reviewers, has, mentione...\n",
       "1        [a, wonderful, little, production, the, filmin...\n",
       "2        [i, thought, this, was, a, wonderful, way, to,...\n",
       "3        [basically, there, s, a, family, where, a, lit...\n",
       "4        [petter, mattei, s, love, in, the, time, of, m...\n",
       "                               ...                        \n",
       "49995    [i, thought, this, movie, did, a, down, right,...\n",
       "49996    [bad, plot, bad, dialogue, bad, acting, idioti...\n",
       "49997    [i, am, a, catholic, taught, in, parochial, el...\n",
       "49998    [i, m, going, to, have, to, disagree, with, th...\n",
       "49999    [no, one, expects, the, star, trek, movies, to...\n",
       "Name: tokens, Length: 50000, dtype: object"
      ]
     },
     "execution_count": 117,
     "metadata": {},
     "output_type": "execute_result"
    }
   ],
   "source": [
    "\n",
    "# Tokenize reviews\n",
    "df['tokens'] = df['review'].apply(word_tokenize)\n",
    "df['tokens']"
   ]
  },
  {
   "cell_type": "code",
   "execution_count": 118,
   "id": "eac3cff3",
   "metadata": {},
   "outputs": [
    {
     "data": {
      "text/plain": [
       "0        [one, reviewers, mentioned, watching, oz, epis...\n",
       "1        [wonderful, little, production, filming, techn...\n",
       "2        [thought, wonderful, way, spend, time, hot, su...\n",
       "3        [basically, family, little, boy, jake, thinks,...\n",
       "4        [petter, mattei, love, time, money, visually, ...\n",
       "                               ...                        \n",
       "49995    [thought, movie, right, good, job, creative, o...\n",
       "49996    [bad, plot, bad, dialogue, bad, acting, idioti...\n",
       "49997    [catholic, taught, parochial, elementary, scho...\n",
       "49998    [going, disagree, previous, comment, side, mal...\n",
       "49999    [one, expects, star, trek, movies, high, art, ...\n",
       "Name: tokens, Length: 50000, dtype: object"
      ]
     },
     "execution_count": 118,
     "metadata": {},
     "output_type": "execute_result"
    }
   ],
   "source": [
    "# Remove stopwords\n",
    "stop_words = set(stopwords.words('english'))\n",
    "df['tokens'] = df['tokens'].apply(lambda x: [word for word in x if word not in stop_words])\n",
    "df['tokens']"
   ]
  },
  {
   "cell_type": "code",
   "execution_count": 119,
   "id": "3d9f54ef",
   "metadata": {
    "scrolled": false
   },
   "outputs": [
    {
     "data": {
      "text/plain": [
       "(                                                  review sentiment  \\\n",
       " 0      one of the other reviewers has mentioned that ...  positive   \n",
       " 1      a wonderful little production  the filming tec...  positive   \n",
       " 2      i thought this was a wonderful way to spend ti...  positive   \n",
       " 4      petter mattei s  love in the time of money  is...  positive   \n",
       " 5      probably my all time favorite movie  a story o...  positive   \n",
       " ...                                                  ...       ...   \n",
       " 49983  i loved it  having been a fan of the original ...  positive   \n",
       " 49985  imaginary heroes is clearly the best film of t...  positive   \n",
       " 49989  i got this one a few weeks ago and love it  it...  positive   \n",
       " 49992  john garfield plays a marine who is blinded by...  positive   \n",
       " 49995  i thought this movie did a down right good job...  positive   \n",
       " \n",
       "        review_length                                             tokens  \n",
       " 0                313  [one, reviewers, mentioned, watching, oz, epis...  \n",
       " 1                160  [wonderful, little, production, filming, techn...  \n",
       " 2                167  [thought, wonderful, way, spend, time, hot, su...  \n",
       " 4                228  [petter, mattei, love, time, money, visually, ...  \n",
       " 5                123  [probably, time, favorite, movie, story, selfl...  \n",
       " ...              ...                                                ...  \n",
       " 49983            133  [loved, fan, original, series, always, wondere...  \n",
       " 49985            218  [imaginary, heroes, clearly, best, film, year,...  \n",
       " 49989            176  [got, one, weeks, ago, love, modern, light, fi...  \n",
       " 49992            175  [john, garfield, plays, marine, blinded, grena...  \n",
       " 49995            198  [thought, movie, right, good, job, creative, o...  \n",
       " \n",
       " [25000 rows x 4 columns],\n",
       "                                                   review sentiment  \\\n",
       " 3      basically there s a family where a little boy ...  negative   \n",
       " 7      this show was an amazing  fresh   innovative i...  negative   \n",
       " 8      encouraged by the positive comments about this...  negative   \n",
       " 10     phil the alien is one of those quirky films wh...  negative   \n",
       " 11     i saw this movie when i was about    when it c...  negative   \n",
       " ...                                                  ...       ...   \n",
       " 49994  this is your typical junk comedy there are alm...  negative   \n",
       " 49996  bad plot  bad dialogue  bad acting  idiotic di...  negative   \n",
       " 49997  i am a catholic taught in parochial elementary...  negative   \n",
       " 49998  i m going to have to disagree with the previou...  negative   \n",
       " 49999  no one expects the star trek movies to be high...  negative   \n",
       " \n",
       "        review_length                                             tokens  \n",
       " 3                133  [basically, family, little, boy, jake, thinks,...  \n",
       " 7                174  [show, amazing, fresh, innovative, idea, first...  \n",
       " 8                126  [encouraged, positive, comments, film, looking...  \n",
       " 10                93  [phil, alien, one, quirky, films, humour, base...  \n",
       " 11               178  [saw, movie, came, recall, scariest, scene, bi...  \n",
       " ...              ...                                                ...  \n",
       " 49994            130  [typical, junk, comedy, almost, laughs, genuin...  \n",
       " 49996            112  [bad, plot, bad, dialogue, bad, acting, idioti...  \n",
       " 49997            236  [catholic, taught, parochial, elementary, scho...  \n",
       " 49998            216  [going, disagree, previous, comment, side, mal...  \n",
       " 49999            127  [one, expects, star, trek, movies, high, art, ...  \n",
       " \n",
       " [25000 rows x 4 columns])"
      ]
     },
     "execution_count": 119,
     "metadata": {},
     "output_type": "execute_result"
    }
   ],
   "source": [
    "# Get the most common words in positive and negative reviews\n",
    "positive_reviews = df[df['sentiment'] == 'positive']\n",
    "negative_reviews = df[df['sentiment'] == 'negative']\n",
    "\n",
    "positive_reviews,negative_reviews"
   ]
  },
  {
   "cell_type": "code",
   "execution_count": 120,
   "id": "5cef9c6c",
   "metadata": {},
   "outputs": [],
   "source": [
    "# Count words for positive reviews\n",
    "positive_word_count = Counter()\n",
    "for tokens in positive_reviews['tokens']:\n",
    "    positive_word_count.update(tokens)\n"
   ]
  },
  {
   "cell_type": "code",
   "execution_count": 121,
   "id": "11b0e16c",
   "metadata": {},
   "outputs": [
    {
     "name": "stdout",
     "output_type": "stream",
     "text": [
      "Most common words in positive reviews:\n",
      "[('film', 42095), ('movie', 37846), ('one', 27312), ('like', 17709), ('good', 15020), ('great', 12961), ('story', 12932), ('time', 12746), ('well', 12724), ('see', 12271), ('also', 10792), ('really', 10736), ('would', 10594), ('even', 9613), ('first', 9228), ('much', 9201), ('people', 8716), ('love', 8689), ('best', 8509), ('get', 8286)]\n"
     ]
    }
   ],
   "source": [
    "# Most common words in positive reviews\n",
    "most_common_positive = positive_word_count.most_common(20)\n",
    "print(\"Most common words in positive reviews:\")\n",
    "print(most_common_positive)"
   ]
  },
  {
   "cell_type": "code",
   "execution_count": 122,
   "id": "53f46d00",
   "metadata": {},
   "outputs": [
    {
     "data": {
      "image/png": "[encoded data removed]",
      "text/plain": [
       "<Figure size 1000x600 with 1 Axes>"
      ]
     },
     "metadata": {},
     "output_type": "display_data"
    }
   ],
   "source": [
    "# Plotting the most common words\n",
    "# Positive\n",
    "plt.figure(figsize=(10, 6))\n",
    "sns.barplot(x=[word for word, count in most_common_positive], y=[count for word, count in most_common_positive])\n",
    "plt.title('Most Common Words in Positive Reviews')\n",
    "plt.xticks(rotation=45)\n",
    "plt.show()"
   ]
  },
  {
   "cell_type": "code",
   "execution_count": 123,
   "id": "51eaa534",
   "metadata": {},
   "outputs": [],
   "source": [
    "#Count words for negative reviews\n",
    "negative_word_count = Counter()\n",
    "for tokens in negative_reviews['tokens']:\n",
    "    negative_word_count.update(tokens)"
   ]
  },
  {
   "cell_type": "code",
   "execution_count": 124,
   "id": "048cf149",
   "metadata": {
    "scrolled": true
   },
   "outputs": [
    {
     "name": "stdout",
     "output_type": "stream",
     "text": [
      "Most common words in negative reviews:\n",
      "[('movie', 50091), ('film', 37581), ('one', 26273), ('like', 22451), ('even', 15243), ('good', 14717), ('bad', 14714), ('would', 14005), ('really', 12354), ('time', 12353), ('see', 10750), ('story', 10178), ('get', 10129), ('much', 10115), ('people', 9466), ('make', 9347), ('could', 9299), ('made', 8800), ('well', 8536), ('first', 8348)]\n"
     ]
    }
   ],
   "source": [
    "# Most common words in negative reviews\n",
    "most_common_negative = negative_word_count.most_common(20)\n",
    "print(\"Most common words in negative reviews:\")\n",
    "print(most_common_negative)"
   ]
  },
  {
   "cell_type": "code",
   "execution_count": 125,
   "id": "476c9d51",
   "metadata": {
    "scrolled": true
   },
   "outputs": [
    {
     "data": {
      "image/png": "[encoded data removed]",
      "text/plain": [
       "<Figure size 1000x600 with 1 Axes>"
      ]
     },
     "metadata": {},
     "output_type": "display_data"
    }
   ],
   "source": [
    "# Negative\n",
    "plt.figure(figsize=(10, 6))\n",
    "sns.barplot(x=[word for word, count in most_common_negative], y=[count for word, count in most_common_negative])\n",
    "plt.title('Most Common Words in Negative Reviews')\n",
    "plt.xticks(rotation=45)\n",
    "plt.show()"
   ]
  },
  {
   "cell_type": "markdown",
   "id": "4cf98ba6",
   "metadata": {},
   "source": [
    "## Method -1 "
   ]
  },
  {
   "cell_type": "markdown",
   "id": "1c0d48a7",
   "metadata": {},
   "source": [
    "Here we are going to use TF-IDF and logistic regression,Naive Bayes and Random forest methods for model analysis"
   ]
  },
  {
   "cell_type": "markdown",
   "id": "46a353fd",
   "metadata": {},
   "source": [
    "### For Vectorization we are using the TFIDF vectorization to transfrom data into suitable fro model input\n"
   ]
  },
  {
   "cell_type": "code",
   "execution_count": 126,
   "id": "ea98808e",
   "metadata": {},
   "outputs": [],
   "source": [
    "vectorizer = TfidfVectorizer(stop_words='english', max_features=3000)\n",
    "X = vectorizer.fit_transform(df['review'])\n",
    "y = df['sentiment'].apply(lambda x: 1 if x == 'positive' else 0)"
   ]
  },
  {
   "cell_type": "markdown",
   "id": "747da5bd",
   "metadata": {},
   "source": [
    "### Splitting the data into training and testing data"
   ]
  },
  {
   "cell_type": "code",
   "execution_count": 127,
   "id": "56b67f43",
   "metadata": {},
   "outputs": [],
   "source": [
    "X_train, X_test, y_train, y_test = train_test_split(X, y, test_size=0.2, random_state=42)\n"
   ]
  },
  {
   "cell_type": "code",
   "execution_count": 128,
   "id": "30bf0646",
   "metadata": {},
   "outputs": [
    {
     "data": {
      "text/html": [
       "<style>#sk-container-id-7 {color: black;}#sk-container-id-7 pre{padding: 0;}#sk-container-id-7 div.sk-toggleable {background-color: white;}#sk-container-id-7 label.sk-toggleable__label {cursor: pointer;display: block;width: 100%;margin-bottom: 0;padding: 0.3em;box-sizing: border-box;text-align: center;}#sk-container-id-7 label.sk-toggleable__label-arrow:before {content: \"▸\";float: left;margin-right: 0.25em;color: #696969;}#sk-container-id-7 label.sk-toggleable__label-arrow:hover:before {color: black;}#sk-container-id-7 div.sk-estimator:hover label.sk-toggleable__label-arrow:before {color: black;}#sk-container-id-7 div.sk-toggleable__content {max-height: 0;max-width: 0;overflow: hidden;text-align: left;background-color: #f0f8ff;}#sk-container-id-7 div.sk-toggleable__content pre {margin: 0.2em;color: black;border-radius: 0.25em;background-color: #f0f8ff;}#sk-container-id-7 input.sk-toggleable__control:checked~div.sk-toggleable__content {max-height: 200px;max-width: 100%;overflow: auto;}#sk-container-id-7 input.sk-toggleable__control:checked~label.sk-toggleable__label-arrow:before {content: \"▾\";}#sk-container-id-7 div.sk-estimator input.sk-toggleable__control:checked~label.sk-toggleable__label {background-color: #d4ebff;}#sk-container-id-7 div.sk-label input.sk-toggleable__control:checked~label.sk-toggleable__label {background-color: #d4ebff;}#sk-container-id-7 input.sk-hidden--visually {border: 0;clip: rect(1px 1px 1px 1px);clip: rect(1px, 1px, 1px, 1px);height: 1px;margin: -1px;overflow: hidden;padding: 0;position: absolute;width: 1px;}#sk-container-id-7 div.sk-estimator {font-family: monospace;background-color: #f0f8ff;border: 1px dotted black;border-radius: 0.25em;box-sizing: border-box;margin-bottom: 0.5em;}#sk-container-id-7 div.sk-estimator:hover {background-color: #d4ebff;}#sk-container-id-7 div.sk-parallel-item::after {content: \"\";width: 100%;border-bottom: 1px solid gray;flex-grow: 1;}#sk-container-id-7 div.sk-label:hover label.sk-toggleable__label {background-color: #d4ebff;}#sk-container-id-7 div.sk-serial::before {content: \"\";position: absolute;border-left: 1px solid gray;box-sizing: border-box;top: 0;bottom: 0;left: 50%;z-index: 0;}#sk-container-id-7 div.sk-serial {display: flex;flex-direction: column;align-items: center;background-color: white;padding-right: 0.2em;padding-left: 0.2em;position: relative;}#sk-container-id-7 div.sk-item {position: relative;z-index: 1;}#sk-container-id-7 div.sk-parallel {display: flex;align-items: stretch;justify-content: center;background-color: white;position: relative;}#sk-container-id-7 div.sk-item::before, #sk-container-id-7 div.sk-parallel-item::before {content: \"\";position: absolute;border-left: 1px solid gray;box-sizing: border-box;top: 0;bottom: 0;left: 50%;z-index: -1;}#sk-container-id-7 div.sk-parallel-item {display: flex;flex-direction: column;z-index: 1;position: relative;background-color: white;}#sk-container-id-7 div.sk-parallel-item:first-child::after {align-self: flex-end;width: 50%;}#sk-container-id-7 div.sk-parallel-item:last-child::after {align-self: flex-start;width: 50%;}#sk-container-id-7 div.sk-parallel-item:only-child::after {width: 0;}#sk-container-id-7 div.sk-dashed-wrapped {border: 1px dashed gray;margin: 0 0.4em 0.5em 0.4em;box-sizing: border-box;padding-bottom: 0.4em;background-color: white;}#sk-container-id-7 div.sk-label label {font-family: monospace;font-weight: bold;display: inline-block;line-height: 1.2em;}#sk-container-id-7 div.sk-label-container {text-align: center;}#sk-container-id-7 div.sk-container {/* jupyter's `normalize.less` sets `[hidden] { display: none; }` but bootstrap.min.css set `[hidden] { display: none !important; }` so we also need the `!important` here to be able to override the default hidden behavior on the sphinx rendered scikit-learn.org. See: https://github.com/scikit-learn/scikit-learn/issues/21755 */display: inline-block !important;position: relative;}#sk-container-id-7 div.sk-text-repr-fallback {display: none;}</style><div id=\"sk-container-id-7\" class=\"sk-top-container\"><div class=\"sk-text-repr-fallback\"><pre>LogisticRegression(random_state=42)</pre><b>In a Jupyter environment, please rerun this cell to show the HTML representation or trust the notebook. <br />On GitHub, the HTML representation is unable to render, please try loading this page with nbviewer.org.</b></div><div class=\"sk-container\" hidden><div class=\"sk-item\"><div class=\"sk-estimator sk-toggleable\"><input class=\"sk-toggleable__control sk-hidden--visually\" id=\"sk-estimator-id-7\" type=\"checkbox\" checked><label for=\"sk-estimator-id-7\" class=\"sk-toggleable__label sk-toggleable__label-arrow\">LogisticRegression</label><div class=\"sk-toggleable__content\"><pre>LogisticRegression(random_state=42)</pre></div></div></div></div></div>"
      ],
      "text/plain": [
       "LogisticRegression(random_state=42)"
      ]
     },
     "execution_count": 128,
     "metadata": {},
     "output_type": "execute_result"
    }
   ],
   "source": [
    "#So in model training and CLassification we are gonna use Naive Bayes method \n",
    "#To perform naive bayes we have to use logistic regression as it is base line for it\n",
    "\n",
    "lr_model = LogisticRegression(random_state=42)\n",
    "lr_model.fit(X_train, y_train)\n"
   ]
  },
  {
   "cell_type": "markdown",
   "id": "ec62d926",
   "metadata": {},
   "source": [
    "### Using Naive Bayes"
   ]
  },
  {
   "cell_type": "code",
   "execution_count": 129,
   "id": "6b471bf8",
   "metadata": {},
   "outputs": [
    {
     "data": {
      "text/html": [
       "<style>#sk-container-id-8 {color: black;}#sk-container-id-8 pre{padding: 0;}#sk-container-id-8 div.sk-toggleable {background-color: white;}#sk-container-id-8 label.sk-toggleable__label {cursor: pointer;display: block;width: 100%;margin-bottom: 0;padding: 0.3em;box-sizing: border-box;text-align: center;}#sk-container-id-8 label.sk-toggleable__label-arrow:before {content: \"▸\";float: left;margin-right: 0.25em;color: #696969;}#sk-container-id-8 label.sk-toggleable__label-arrow:hover:before {color: black;}#sk-container-id-8 div.sk-estimator:hover label.sk-toggleable__label-arrow:before {color: black;}#sk-container-id-8 div.sk-toggleable__content {max-height: 0;max-width: 0;overflow: hidden;text-align: left;background-color: #f0f8ff;}#sk-container-id-8 div.sk-toggleable__content pre {margin: 0.2em;color: black;border-radius: 0.25em;background-color: #f0f8ff;}#sk-container-id-8 input.sk-toggleable__control:checked~div.sk-toggleable__content {max-height: 200px;max-width: 100%;overflow: auto;}#sk-container-id-8 input.sk-toggleable__control:checked~label.sk-toggleable__label-arrow:before {content: \"▾\";}#sk-container-id-8 div.sk-estimator input.sk-toggleable__control:checked~label.sk-toggleable__label {background-color: #d4ebff;}#sk-container-id-8 div.sk-label input.sk-toggleable__control:checked~label.sk-toggleable__label {background-color: #d4ebff;}#sk-container-id-8 input.sk-hidden--visually {border: 0;clip: rect(1px 1px 1px 1px);clip: rect(1px, 1px, 1px, 1px);height: 1px;margin: -1px;overflow: hidden;padding: 0;position: absolute;width: 1px;}#sk-container-id-8 div.sk-estimator {font-family: monospace;background-color: #f0f8ff;border: 1px dotted black;border-radius: 0.25em;box-sizing: border-box;margin-bottom: 0.5em;}#sk-container-id-8 div.sk-estimator:hover {background-color: #d4ebff;}#sk-container-id-8 div.sk-parallel-item::after {content: \"\";width: 100%;border-bottom: 1px solid gray;flex-grow: 1;}#sk-container-id-8 div.sk-label:hover label.sk-toggleable__label {background-color: #d4ebff;}#sk-container-id-8 div.sk-serial::before {content: \"\";position: absolute;border-left: 1px solid gray;box-sizing: border-box;top: 0;bottom: 0;left: 50%;z-index: 0;}#sk-container-id-8 div.sk-serial {display: flex;flex-direction: column;align-items: center;background-color: white;padding-right: 0.2em;padding-left: 0.2em;position: relative;}#sk-container-id-8 div.sk-item {position: relative;z-index: 1;}#sk-container-id-8 div.sk-parallel {display: flex;align-items: stretch;justify-content: center;background-color: white;position: relative;}#sk-container-id-8 div.sk-item::before, #sk-container-id-8 div.sk-parallel-item::before {content: \"\";position: absolute;border-left: 1px solid gray;box-sizing: border-box;top: 0;bottom: 0;left: 50%;z-index: -1;}#sk-container-id-8 div.sk-parallel-item {display: flex;flex-direction: column;z-index: 1;position: relative;background-color: white;}#sk-container-id-8 div.sk-parallel-item:first-child::after {align-self: flex-end;width: 50%;}#sk-container-id-8 div.sk-parallel-item:last-child::after {align-self: flex-start;width: 50%;}#sk-container-id-8 div.sk-parallel-item:only-child::after {width: 0;}#sk-container-id-8 div.sk-dashed-wrapped {border: 1px dashed gray;margin: 0 0.4em 0.5em 0.4em;box-sizing: border-box;padding-bottom: 0.4em;background-color: white;}#sk-container-id-8 div.sk-label label {font-family: monospace;font-weight: bold;display: inline-block;line-height: 1.2em;}#sk-container-id-8 div.sk-label-container {text-align: center;}#sk-container-id-8 div.sk-container {/* jupyter's `normalize.less` sets `[hidden] { display: none; }` but bootstrap.min.css set `[hidden] { display: none !important; }` so we also need the `!important` here to be able to override the default hidden behavior on the sphinx rendered scikit-learn.org. See: https://github.com/scikit-learn/scikit-learn/issues/21755 */display: inline-block !important;position: relative;}#sk-container-id-8 div.sk-text-repr-fallback {display: none;}</style><div id=\"sk-container-id-8\" class=\"sk-top-container\"><div class=\"sk-text-repr-fallback\"><pre>MultinomialNB()</pre><b>In a Jupyter environment, please rerun this cell to show the HTML representation or trust the notebook. <br />On GitHub, the HTML representation is unable to render, please try loading this page with nbviewer.org.</b></div><div class=\"sk-container\" hidden><div class=\"sk-item\"><div class=\"sk-estimator sk-toggleable\"><input class=\"sk-toggleable__control sk-hidden--visually\" id=\"sk-estimator-id-8\" type=\"checkbox\" checked><label for=\"sk-estimator-id-8\" class=\"sk-toggleable__label sk-toggleable__label-arrow\">MultinomialNB</label><div class=\"sk-toggleable__content\"><pre>MultinomialNB()</pre></div></div></div></div></div>"
      ],
      "text/plain": [
       "MultinomialNB()"
      ]
     },
     "execution_count": 129,
     "metadata": {},
     "output_type": "execute_result"
    }
   ],
   "source": [
    "nb_model = MultinomialNB()\n",
    "nb_model.fit(X_train, y_train)"
   ]
  },
  {
   "cell_type": "code",
   "execution_count": 130,
   "id": "5acb5c0d",
   "metadata": {},
   "outputs": [
    {
     "data": {
      "text/html": [
       "<style>#sk-container-id-9 {color: black;}#sk-container-id-9 pre{padding: 0;}#sk-container-id-9 div.sk-toggleable {background-color: white;}#sk-container-id-9 label.sk-toggleable__label {cursor: pointer;display: block;width: 100%;margin-bottom: 0;padding: 0.3em;box-sizing: border-box;text-align: center;}#sk-container-id-9 label.sk-toggleable__label-arrow:before {content: \"▸\";float: left;margin-right: 0.25em;color: #696969;}#sk-container-id-9 label.sk-toggleable__label-arrow:hover:before {color: black;}#sk-container-id-9 div.sk-estimator:hover label.sk-toggleable__label-arrow:before {color: black;}#sk-container-id-9 div.sk-toggleable__content {max-height: 0;max-width: 0;overflow: hidden;text-align: left;background-color: #f0f8ff;}#sk-container-id-9 div.sk-toggleable__content pre {margin: 0.2em;color: black;border-radius: 0.25em;background-color: #f0f8ff;}#sk-container-id-9 input.sk-toggleable__control:checked~div.sk-toggleable__content {max-height: 200px;max-width: 100%;overflow: auto;}#sk-container-id-9 input.sk-toggleable__control:checked~label.sk-toggleable__label-arrow:before {content: \"▾\";}#sk-container-id-9 div.sk-estimator input.sk-toggleable__control:checked~label.sk-toggleable__label {background-color: #d4ebff;}#sk-container-id-9 div.sk-label input.sk-toggleable__control:checked~label.sk-toggleable__label {background-color: #d4ebff;}#sk-container-id-9 input.sk-hidden--visually {border: 0;clip: rect(1px 1px 1px 1px);clip: rect(1px, 1px, 1px, 1px);height: 1px;margin: -1px;overflow: hidden;padding: 0;position: absolute;width: 1px;}#sk-container-id-9 div.sk-estimator {font-family: monospace;background-color: #f0f8ff;border: 1px dotted black;border-radius: 0.25em;box-sizing: border-box;margin-bottom: 0.5em;}#sk-container-id-9 div.sk-estimator:hover {background-color: #d4ebff;}#sk-container-id-9 div.sk-parallel-item::after {content: \"\";width: 100%;border-bottom: 1px solid gray;flex-grow: 1;}#sk-container-id-9 div.sk-label:hover label.sk-toggleable__label {background-color: #d4ebff;}#sk-container-id-9 div.sk-serial::before {content: \"\";position: absolute;border-left: 1px solid gray;box-sizing: border-box;top: 0;bottom: 0;left: 50%;z-index: 0;}#sk-container-id-9 div.sk-serial {display: flex;flex-direction: column;align-items: center;background-color: white;padding-right: 0.2em;padding-left: 0.2em;position: relative;}#sk-container-id-9 div.sk-item {position: relative;z-index: 1;}#sk-container-id-9 div.sk-parallel {display: flex;align-items: stretch;justify-content: center;background-color: white;position: relative;}#sk-container-id-9 div.sk-item::before, #sk-container-id-9 div.sk-parallel-item::before {content: \"\";position: absolute;border-left: 1px solid gray;box-sizing: border-box;top: 0;bottom: 0;left: 50%;z-index: -1;}#sk-container-id-9 div.sk-parallel-item {display: flex;flex-direction: column;z-index: 1;position: relative;background-color: white;}#sk-container-id-9 div.sk-parallel-item:first-child::after {align-self: flex-end;width: 50%;}#sk-container-id-9 div.sk-parallel-item:last-child::after {align-self: flex-start;width: 50%;}#sk-container-id-9 div.sk-parallel-item:only-child::after {width: 0;}#sk-container-id-9 div.sk-dashed-wrapped {border: 1px dashed gray;margin: 0 0.4em 0.5em 0.4em;box-sizing: border-box;padding-bottom: 0.4em;background-color: white;}#sk-container-id-9 div.sk-label label {font-family: monospace;font-weight: bold;display: inline-block;line-height: 1.2em;}#sk-container-id-9 div.sk-label-container {text-align: center;}#sk-container-id-9 div.sk-container {/* jupyter's `normalize.less` sets `[hidden] { display: none; }` but bootstrap.min.css set `[hidden] { display: none !important; }` so we also need the `!important` here to be able to override the default hidden behavior on the sphinx rendered scikit-learn.org. See: https://github.com/scikit-learn/scikit-learn/issues/21755 */display: inline-block !important;position: relative;}#sk-container-id-9 div.sk-text-repr-fallback {display: none;}</style><div id=\"sk-container-id-9\" class=\"sk-top-container\"><div class=\"sk-text-repr-fallback\"><pre>RandomForestClassifier(random_state=42)</pre><b>In a Jupyter environment, please rerun this cell to show the HTML representation or trust the notebook. <br />On GitHub, the HTML representation is unable to render, please try loading this page with nbviewer.org.</b></div><div class=\"sk-container\" hidden><div class=\"sk-item\"><div class=\"sk-estimator sk-toggleable\"><input class=\"sk-toggleable__control sk-hidden--visually\" id=\"sk-estimator-id-9\" type=\"checkbox\" checked><label for=\"sk-estimator-id-9\" class=\"sk-toggleable__label sk-toggleable__label-arrow\">RandomForestClassifier</label><div class=\"sk-toggleable__content\"><pre>RandomForestClassifier(random_state=42)</pre></div></div></div></div></div>"
      ],
      "text/plain": [
       "RandomForestClassifier(random_state=42)"
      ]
     },
     "execution_count": 130,
     "metadata": {},
     "output_type": "execute_result"
    }
   ],
   "source": [
    "rf_model = RandomForestClassifier(random_state=42)\n",
    "rf_model.fit(X_train, y_train)"
   ]
  },
  {
   "cell_type": "code",
   "execution_count": 131,
   "id": "750404c8",
   "metadata": {},
   "outputs": [],
   "source": [
    "#Now evaluating the model using the Naive bayes\n",
    "models = {'Logistic Regression': lr_model, 'Naive Bayes': nb_model, 'Random Forest': rf_model}"
   ]
  },
  {
   "cell_type": "code",
   "execution_count": 132,
   "id": "ef7edf65",
   "metadata": {},
   "outputs": [
    {
     "name": "stdout",
     "output_type": "stream",
     "text": [
      "Logistic Regression Classification Report:\n",
      "\n",
      "              precision    recall  f1-score   support\n",
      "\n",
      "           0       0.90      0.87      0.88      4961\n",
      "           1       0.88      0.90      0.89      5039\n",
      "\n",
      "    accuracy                           0.89     10000\n",
      "   macro avg       0.89      0.89      0.89     10000\n",
      "weighted avg       0.89      0.89      0.89     10000\n",
      "\n",
      "Accuracy: 0.8864\n",
      "\n",
      "Naive Bayes Classification Report:\n",
      "\n",
      "              precision    recall  f1-score   support\n",
      "\n",
      "           0       0.85      0.84      0.85      4961\n",
      "           1       0.85      0.86      0.85      5039\n",
      "\n",
      "    accuracy                           0.85     10000\n",
      "   macro avg       0.85      0.85      0.85     10000\n",
      "weighted avg       0.85      0.85      0.85     10000\n",
      "\n",
      "Accuracy: 0.85\n",
      "\n",
      "Random Forest Classification Report:\n",
      "\n",
      "              precision    recall  f1-score   support\n",
      "\n",
      "           0       0.84      0.86      0.85      4961\n",
      "           1       0.86      0.84      0.85      5039\n",
      "\n",
      "    accuracy                           0.85     10000\n",
      "   macro avg       0.85      0.85      0.85     10000\n",
      "weighted avg       0.85      0.85      0.85     10000\n",
      "\n",
      "Accuracy: 0.8495\n",
      "\n"
     ]
    }
   ],
   "source": [
    "for name, model in models.items():\n",
    "    predictions = model.predict(X_test)\n",
    "    print(f\"{name} Classification Report:\\n\")\n",
    "    print(classification_report(y_test, predictions))\n",
    "    print(f\"Accuracy: {accuracy_score(y_test, predictions)}\\n\")"
   ]
  },
  {
   "cell_type": "markdown",
   "id": "f0cf0a2d",
   "metadata": {},
   "source": [
    "### Result analysis:\n",
    "\n",
    "#### Model Comparison: \n",
    "Comparing the results of different models to identify which one performs the best in terms of accuracy and F1-score.\n",
    "\n",
    "#### Improve Text Preprocessing: \n",
    "Experimenting with more advanced NLP techniques such as stemming, lemmatization, or using n-grams in the vectorization step.\n",
    "\n",
    "#### Hyperparameter Tuning: \n",
    "For the best-performing model, conducting hyperparameter tuning using grid search or random search to optimize its performance.\n",
    "\n",
    "#### Use Different Vectorization Techniques:\n",
    "using Word2Vec or GloVe embeddings instead of TF-IDF to see if they improve model performance.\n",
    "\n",
    "#### Expand the Dataset: \n",
    "Sometimes models perform better when trained on more data. Consider augmenting the dataset or using additional data sources."
   ]
  },
  {
   "cell_type": "markdown",
   "id": "ce5c22e9",
   "metadata": {},
   "source": [
    "Above we are using Tf-IDF and Naive Bayes methods for Model analysis"
   ]
  },
  {
   "cell_type": "markdown",
   "id": "6183f7a3",
   "metadata": {},
   "source": [
    "# Method - 2"
   ]
  },
  {
   "cell_type": "markdown",
   "id": "dd8fdff0",
   "metadata": {},
   "source": [
    "Here we are going to use SVM and Naive Bayes methods for model analysis"
   ]
  },
  {
   "cell_type": "code",
   "execution_count": 133,
   "id": "5eea006a",
   "metadata": {},
   "outputs": [],
   "source": [
    "from sklearn.feature_extraction.text import TfidfVectorizer\n",
    "from sklearn.svm import LinearSVC\n",
    "from sklearn.naive_bayes import MultinomialNB\n",
    "from sklearn.pipeline import make_pipeline\n",
    "from sklearn.metrics import accuracy_score, classification_report\n",
    "from sklearn.model_selection import train_test_split\n",
    "import warnings"
   ]
  },
  {
   "cell_type": "code",
   "execution_count": 134,
   "id": "85c91372",
   "metadata": {},
   "outputs": [],
   "source": [
    "#Converting lables to binary format\n",
    "df_sampled['sentiment'] = df_sampled['sentiment'].map({'positive': 1, 'negative': 0})"
   ]
  },
  {
   "cell_type": "code",
   "execution_count": 135,
   "id": "4cab860a",
   "metadata": {},
   "outputs": [],
   "source": [
    "warnings.filterwarnings('ignore')\n",
    "df_sampled = df.sample(frac=0.2, random_state=42)"
   ]
  },
  {
   "cell_type": "markdown",
   "id": "0eeb6e53",
   "metadata": {},
   "source": [
    "As we are dealing with huge data and having intensive tasks such as training SVM and naive bayes on this large data sets like IMDB reviews ,it is taking long time to execute so here we are using some effiecient approcahes to reduce the time durability of execution of these methods"
   ]
  },
  {
   "cell_type": "markdown",
   "id": "92b05c67",
   "metadata": {},
   "source": [
    "#### Processing and Vectorization"
   ]
  },
  {
   "cell_type": "code",
   "execution_count": 136,
   "id": "d1c39158",
   "metadata": {},
   "outputs": [],
   "source": [
    "#Here we are reducing the max_features to avoid using bigrams if they are not so important\n",
    "vectorizer = TfidfVectorizer(ngram_range=(1, 1), stop_words='english', max_features=3000)"
   ]
  },
  {
   "cell_type": "markdown",
   "id": "da85d0a9",
   "metadata": {},
   "source": [
    "#### Splitting the data into training and testing data"
   ]
  },
  {
   "cell_type": "code",
   "execution_count": 137,
   "id": "16d41c6f",
   "metadata": {},
   "outputs": [],
   "source": [
    "X_train, X_test, y_train, y_test = train_test_split(df_sampled['review'], df_sampled['sentiment'], test_size=0.2, random_state=42)"
   ]
  },
  {
   "cell_type": "markdown",
   "id": "3bb7387c",
   "metadata": {},
   "source": [
    "#### Using SVM model classification for model analysis"
   ]
  },
  {
   "cell_type": "code",
   "execution_count": 138,
   "id": "dd209314",
   "metadata": {},
   "outputs": [],
   "source": [
    "svm_model = make_pipeline(vectorizer, LinearSVC())\n",
    "svm_model.fit(X_train, y_train)\n",
    "svm_predictions = svm_model.predict(X_test)"
   ]
  },
  {
   "cell_type": "markdown",
   "id": "c23c74c4",
   "metadata": {},
   "source": [
    "The reason we are using LInearSVC because it works and makes the data to execute faster than other methods,it is used for Large data sets"
   ]
  },
  {
   "cell_type": "code",
   "execution_count": 139,
   "id": "b4a4435a",
   "metadata": {},
   "outputs": [
    {
     "name": "stdout",
     "output_type": "stream",
     "text": [
      "SVM Classification Report:\n",
      "              precision    recall  f1-score   support\n",
      "\n",
      "    negative       0.87      0.84      0.85       999\n",
      "    positive       0.84      0.88      0.86      1001\n",
      "\n",
      "    accuracy                           0.86      2000\n",
      "   macro avg       0.86      0.86      0.86      2000\n",
      "weighted avg       0.86      0.86      0.86      2000\n",
      "\n"
     ]
    }
   ],
   "source": [
    "svm_predictions = svm_pipeline.predict(X_test)\n",
    "print(\"SVM Classification Report:\")\n",
    "print(classification_report(y_test, svm_predictions))"
   ]
  },
  {
   "cell_type": "markdown",
   "id": "56c63898",
   "metadata": {},
   "source": [
    "#### We are using Naive bayes model for analyzing the model and comparing with SVM"
   ]
  },
  {
   "cell_type": "code",
   "execution_count": 140,
   "id": "ac8a02d0",
   "metadata": {},
   "outputs": [],
   "source": [
    "nb_model = make_pipeline(vectorizer, MultinomialNB())\n",
    "nb_model.fit(X_train, y_train)\n",
    "nb_predictions = nb_model.predict(X_test)"
   ]
  },
  {
   "cell_type": "code",
   "execution_count": 141,
   "id": "3f201e88",
   "metadata": {},
   "outputs": [
    {
     "name": "stdout",
     "output_type": "stream",
     "text": [
      "Naive Bayes Classification Report:\n",
      "              precision    recall  f1-score   support\n",
      "\n",
      "    negative       0.86      0.86      0.86       999\n",
      "    positive       0.86      0.86      0.86      1001\n",
      "\n",
      "    accuracy                           0.86      2000\n",
      "   macro avg       0.86      0.86      0.86      2000\n",
      "weighted avg       0.86      0.86      0.86      2000\n",
      "\n"
     ]
    }
   ],
   "source": [
    "print(\"Naive Bayes Classification Report:\")\n",
    "print(classification_report(y_test, nb_predictions))"
   ]
  },
  {
   "cell_type": "markdown",
   "id": "55f460db",
   "metadata": {},
   "source": [
    "The dataset contains movie reviews that are labeled as 'positive' or 'negative'. The code used these reviews to train the models to learn how to differentiate between positive and negative sentiments. After training, the models were tested with a separate set of reviews (the test set), and their predictions were compared against the actual labels to produce these classification reports.\n",
    "\n",
    "The results show that both models are performing equally well with no significant difference between their ability to predict positive and negative reviews based on the text of the reviews.\n",
    "\n",
    "\n",
    "So,Here by implementing the changes from before method we can see reduction in execution time for training and predicting with SVM and Naive Bayes classifier "
   ]
  },
  {
   "cell_type": "markdown",
   "id": "a889b9e0",
   "metadata": {},
   "source": [
    "#### Based on the results we got can improve the results as mentioned below\n",
    "\n",
    "mainly we should focus on\n",
    "\n",
    "* Tuning model parameters using techniques like grid search.\n",
    "* Using more complex models or ensembles.\n",
    "* Increasing the dataset size or using different features, like bi-grams or   tri-grams in TF-IDF.\n",
    "* Implementing more advanced text preprocessing techniques.\n",
    "\n",
    "\n",
    "#### Feature Engineering: \n",
    "More sophisticated text features like sentiment scores or POS tagging could enhance the model's understanding.\n",
    "\n",
    "#### Hyperparameter Tuning: \n",
    "Using techniques like grid search to find optimal parameters for SVM and Naive Bayes.\n",
    "\n",
    "#### Ensemble Methods: \n",
    "Combining different model predictions might improve accuracy and robustness.\n",
    "\n",
    "#### Advanced Text Processing: \n",
    "Deeper cleaning, handling negations, and using domain-specific stopwords can help in better sentiment classification.\n"
   ]
  },
  {
   "cell_type": "markdown",
   "id": "733200e3",
   "metadata": {},
   "source": [
    "## Data Visualization based on the output\n",
    "\n",
    "For enhancing our analysis it is better and understandable if we provide clear results from SVM and Naive Bayes we can add some visulizations.\n",
    "These plots can interpreted the model performance and understand the distribution of sentiments for our prediction"
   ]
  },
  {
   "cell_type": "code",
   "execution_count": 142,
   "id": "6adf877c",
   "metadata": {},
   "outputs": [],
   "source": [
    "import matplotlib.pyplot as plt\n",
    "import seaborn as sns\n",
    "from sklearn.metrics import confusion_matrix, roc_curve, auc, precision_recall_curve\n",
    "from sklearn.calibration import CalibratedClassifierCV"
   ]
  },
  {
   "cell_type": "code",
   "execution_count": 145,
   "id": "9766a971",
   "metadata": {},
   "outputs": [],
   "source": [
    "#Confusion Matrix plot this displays the correct and incorrrect prediction made by model categorized by type\n",
    "def plot_confusion_matrix(y_true, y_pred, title='Confusion Matrix'):\n",
    "    cm = confusion_matrix(y_true, y_pred)\n",
    "    sns.heatmap(cm, annot=True, fmt='d', cmap='Blues', cbar=False)\n",
    "    plt.xlabel('Predicted Labels')\n",
    "    plt.ylabel('True Labels')\n",
    "    plt.title(title)\n",
    "    plt.show()\n"
   ]
  },
  {
   "cell_type": "code",
   "execution_count": 146,
   "id": "50bf945c",
   "metadata": {},
   "outputs": [
    {
     "data": {
      "image/png": "[encoded data removed]",
      "text/plain": [
       "<Figure size 640x480 with 1 Axes>"
      ]
     },
     "metadata": {},
     "output_type": "display_data"
    },
    {
     "data": {
      "image/png": "[encoded data removed]",
      "text/plain": [
       "<Figure size 640x480 with 1 Axes>"
      ]
     },
     "metadata": {},
     "output_type": "display_data"
    }
   ],
   "source": [
    "plot_confusion_matrix(y_test, svm_predictions, title='SVM Confusion Matrix')\n",
    "plot_confusion_matrix(y_test, nb_predictions, title='Naive Bayes Confusion Matrix')"
   ]
  },
  {
   "cell_type": "markdown",
   "id": "b4e47bcf",
   "metadata": {},
   "source": [
    "This Correlation plot helps in identifying how many instances of each label were correctly or incorrectly predicted. This helps in understanding the type of errors made by the classifiers."
   ]
  }
 ],
 "metadata": {
  "kernelspec": {
   "display_name": "Python 3 (ipykernel)",
   "language": "python",
   "name": "python3"
  },
  "language_info": {
   "codemirror_mode": {
    "name": "ipython",
    "version": 3
   },
   "file_extension": ".py",
   "mimetype": "text/x-python",
   "name": "python",
   "nbconvert_exporter": "python",
   "pygments_lexer": "ipython3",
   "version": "3.11.4"
  }
 },
 "nbformat": 4,
 "nbformat_minor": 5
}
